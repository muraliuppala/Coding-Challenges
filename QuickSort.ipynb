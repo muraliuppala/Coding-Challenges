{
 "cells": [
  {
   "cell_type": "heading",
   "metadata": {
    "collapsed": true
   },
   "level": 3,
   "source": [
    "Implement Quick Sort:"
   ]
  },
  {
   "cell_type": "markdown",
   "metadata": {},
   "source": [
    "Quicksort is a divide and conquer algorithm. Quicksort first divides a large array into two smaller sub-arrays: the low elements and the high elements. Quicksort can then recursively sort the sub-arrays."
   ]
  },
  {
   "cell_type": "markdown",
   "metadata": {},
   "source": [
    "####Assumptions:\n",
    "- Data fits in Memory"
   ]
  },
  {
   "cell_type": "markdown",
   "metadata": {},
   "source": [
    "#####Algorithm:\n",
    "- Set pivot to the middle element in the data\n",
    "- For each element:\n",
    "\t- If current element is the pivot, continue\n",
    "\t- If the element is less than the pivot, add to left array\n",
    "\t- Else, add to right array\n",
    "- Recursively apply quicksort to the left array\n",
    "- Recursively apply quicksort to the right array\n",
    "- Merge the left array + pivot + right array"
   ]
  },
  {
   "cell_type": "markdown",
   "metadata": {},
   "source": [
    "#####Complexity:\n",
    "- Time: O(n log(n)) average, best, O(n^2) worst\n",
    "- Space: O(n)"
   ]
  },
  {
   "cell_type": "markdown",
   "metadata": {},
   "source": [
    "#####Misc:\n",
    "- Typically, quicksort is significantly faster in practice than other Θ(nlogn) algorithms, because its inner loop can be efficiently implemented on most architectures [presumably because it has good cache locality], and in most real-world data, it is possible to make design choices which minimize the probability of requiring quadratic time."
   ]
  },
  {
   "cell_type": "code",
   "execution_count": 11,
   "metadata": {},
   "outputs": [],
   "source": [
    "class QuickSort(object):\n",
    "    \n",
    "    def sort(self, data):\n",
    "        if data is None:\n",
    "            raise TypeError(\"data cannot be None\")\n",
    "        return self._sort(data)\n",
    "    \n",
    "    def _sort(self, data):\n",
    "        if len(data) < 2:\n",
    "            return data\n",
    "\n",
    "        equal = []\n",
    "        left = []\n",
    "        right = []\n",
    "        # take middle element as pivot\n",
    "        pivot_index = len(data) // 2\n",
    "        pivot_value = data[pivot_index]\n",
    "        \n",
    "        for item in data:\n",
    "            if item == pivot_value:\n",
    "                equal.append(item)\n",
    "            elif item < pivot_value:\n",
    "                left.append(item)\n",
    "            else:\n",
    "                right.append(item)\n",
    "        \n",
    "        # recursively apply quick sort\n",
    "        return self._sort(left) + equal + self._sort(right)"
   ]
  },
  {
   "cell_type": "heading",
   "metadata": {},
   "level": 3,
   "source": [
    "UNIT TEST:"
   ]
  },
  {
   "cell_type": "code",
   "execution_count": 12,
   "metadata": {},
   "outputs": [],
   "source": [
    "from nose.tools import assert_equal, assert_raises"
   ]
  },
  {
   "cell_type": "code",
   "execution_count": 13,
   "metadata": {},
   "outputs": [],
   "source": [
    "class TestQuickSort(object):\n",
    "    \n",
    "    def test_quick_sort(self):\n",
    "        quick_sort = QuickSort()\n",
    "        \n",
    "        print('None input')\n",
    "        assert_raises(TypeError, quick_sort.sort, None)\n",
    "\n",
    "        print('Empty input')\n",
    "        assert_equal(quick_sort.sort([]), [])\n",
    "\n",
    "        print('One element')\n",
    "        assert_equal(quick_sort.sort([5]), [5])\n",
    "\n",
    "        print('Two or more elements')\n",
    "        data = [5, 1, 7, 2, 6, -3, 5, 7, -1]\n",
    "        assert_equal(quick_sort.sort(data), sorted(data))\n",
    "\n",
    "        print('Success: test_quick_sort\\n')"
   ]
  },
  {
   "cell_type": "code",
   "execution_count": 14,
   "metadata": {},
   "outputs": [
    {
     "name": "stdout",
     "output_type": "stream",
     "text": [
      "None input\nEmpty input\nOne element\nTwo or more elements\nSuccess: test_quick_sort\n\n"
     ]
    }
   ],
   "source": [
    "test = TestQuickSort()\n",
    "test.test_quick_sort()"
   ]
  },
  {
   "cell_type": "code",
   "execution_count": 15,
   "metadata": {},
   "outputs": [
    {
     "data": {
      "text/plain": [
       "1000"
      ]
     },
     "execution_count": 15,
     "metadata": {},
     "output_type": "execute_result"
    }
   ],
   "source": [
    "import sys\n",
    "\n",
    "sys.getrecursionlimit()"
   ]
  },
  {
   "cell_type": "heading",
   "metadata": {},
   "level": 3,
   "source": [
    "IMPLEMENTATION 2:"
   ]
  },
  {
   "cell_type": "markdown",
   "metadata": {},
   "source": [
    "- Without using additional storage."
   ]
  },
  {
   "cell_type": "code",
   "execution_count": null,
   "metadata": {},
   "outputs": [],
   "source": []
  }
 ],
 "metadata": {
  "kernelspec": {
   "display_name": "Python 2",
   "language": "python",
   "name": "python2"
  },
  "language_info": {
   "codemirror_mode": {
    "name": "ipython",
    "version": 2
   },
   "file_extension": ".py",
   "mimetype": "text/x-python",
   "name": "python",
   "nbconvert_exporter": "python",
   "pygments_lexer": "ipython2",
   "version": "2.7.6"
  }
 },
 "nbformat": 4,
 "nbformat_minor": 0
}
